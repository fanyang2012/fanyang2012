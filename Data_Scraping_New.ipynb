{
  "nbformat": 4,
  "nbformat_minor": 0,
  "metadata": {
    "colab": {
      "name": "Data Scraping - New.ipynb",
      "provenance": [],
      "collapsed_sections": [],
      "include_colab_link": true
    },
    "kernelspec": {
      "name": "python3",
      "display_name": "Python 3"
    },
    "language_info": {
      "name": "python"
    }
  },
  "cells": [
    {
      "cell_type": "markdown",
      "metadata": {
        "id": "view-in-github",
        "colab_type": "text"
      },
      "source": [
        "<a href=\"https://colab.research.google.com/github/fanyang2012/fanyang2012/blob/main/Data_Scraping_New.ipynb\" target=\"_parent\"><img src=\"https://colab.research.google.com/assets/colab-badge.svg\" alt=\"Open In Colab\"/></a>"
      ]
    },
    {
      "cell_type": "markdown",
      "source": [
        "# Data Scraping\n",
        "\n",
        "Inhalte:\n",
        "\n",
        "*   Preisinfo (UVP, Vorzugspreis, Grundpreis, Rabatt)\n",
        "*   Lieferanten-SKU\n",
        "*   Produktanzahl\n",
        "*   Images (URLs, Bilderanzahl)\n",
        "*   Produktbeschreibung (Basisinfo, Attribute)\n",
        "*   Produktstatus\n",
        "\n",
        "Webseiten: \n",
        "\n",
        "*   Shop-Apotheke.de\n",
        "*   Mueller.de\n",
        "*   Reuter.de\n",
        "*   Otto.de\n"
      ],
      "metadata": {
        "id": "BVrsfHcqylyQ"
      }
    },
    {
      "cell_type": "markdown",
      "source": [
        "## Shop-apotheke.de & Mueller.de -> Kosmetik & Nahrungsmittel\n",
        "### 1. Images\n",
        "\n",
        "*   Marken, Kategorien\n",
        "*   URLs der Produktbilder\n",
        "*   Anzahl der Produktbilder\n",
        "*   Definition des Namen des Images\n",
        "*   base_image, additional_images\n",
        "*   File_path - standard path + Ordnername (Kosmetik, Nahrungsmittel)\n",
        "*   Save_Image -> File path + File name\n",
        "\n",
        "### 2. Produktinfos\n",
        "*  Produktpreis -> shop-apotheke.de\n",
        "*  RPA -> Otto.de\n",
        "*  Produktstatus -> Mueller.de, Reuter.de, Otto.de\n",
        "*  Produktbeschreibung - html\n",
        "*  Übersetzung - Produktbeschreibung\n",
        "*  SEO: URL, Titel (Produktname), Keywords (Marken, Kategorie), Beschreibung (Kurzbeschreibung)\n",
        "*  SKU-Nummer\n"
      ],
      "metadata": {
        "id": "kvIGmtcHvw_4"
      }
    },
    {
      "cell_type": "markdown",
      "source": [
        "## URL-Pinyin\n",
        "\n",
        "\n",
        "\n",
        "*   https://www.cnblogs.com/diantong/p/12606328.html\n",
        "*   https://pypi.org/project/xpinyin/\n",
        "*   https://www.jb51.net/article/167461.htm\n",
        "\n"
      ],
      "metadata": {
        "id": "CNVYTnqo6L3X"
      }
    },
    {
      "cell_type": "code",
      "source": [
        "!pip install xpinyin\n",
        "!pip install jieba"
      ],
      "metadata": {
        "id": "IKsBAIyW6z8c"
      },
      "execution_count": null,
      "outputs": []
    },
    {
      "cell_type": "code",
      "source": [
        "name = 'Grohe 壁挂式马桶套装无边框带白色马桶座圈'"
      ],
      "metadata": {
        "id": "Q8VjOaTH2cND"
      },
      "execution_count": null,
      "outputs": []
    },
    {
      "cell_type": "code",
      "source": [
        "def pinyin_url(name): \n",
        "\n",
        "  from xpinyin import Pinyin # Package for transfering into pinyin\n",
        "  import jieba # Package to cut chinese words\n",
        "\n",
        "  name = name.replace(',', '').replace(' ', '') # remove comma in the chinese name\n",
        "  names = jieba.lcut(name) # split chinese name into different words\n",
        "\n",
        "  namen = ''\n",
        "  for i in range(len(names)):\n",
        "    namen = namen + names[i]\n",
        "    if i+1 < len(names): \n",
        "      namen = namen + '-' # add '-' between words\n",
        "\n",
        "  ret = p.get_pinyin(namen, '') # tranfer the name into pinyin\n",
        "\n",
        "  return ret"
      ],
      "metadata": {
        "id": "Opw4w6sD6MLL"
      },
      "execution_count": null,
      "outputs": []
    },
    {
      "cell_type": "code",
      "source": [
        "pinyin_url(name)"
      ],
      "metadata": {
        "colab": {
          "base_uri": "https://localhost:8080/",
          "height": 35
        },
        "id": "cBktq4Ay6UrU",
        "outputId": "96205044-390b-4473-accc-8e27b32a0a22"
      },
      "execution_count": null,
      "outputs": [
        {
          "output_type": "execute_result",
          "data": {
            "application/vnd.google.colaboratory.intrinsic+json": {
              "type": "string"
            },
            "text/plain": [
              "'Grohe-biguashi-matong-taozhuang-wu-biankuang-dai-baise-matong-zuoquan'"
            ]
          },
          "metadata": {},
          "execution_count": 43
        }
      ]
    },
    {
      "cell_type": "markdown",
      "source": [
        "## 1. Install packages"
      ],
      "metadata": {
        "id": "2XoGgkFJyfhG"
      }
    },
    {
      "cell_type": "code",
      "execution_count": null,
      "metadata": {
        "id": "B8aX_l5vyRrc"
      },
      "outputs": [],
      "source": [
        "!pip install cloudscraper"
      ]
    },
    {
      "cell_type": "markdown",
      "source": [
        "## 2. Import packages"
      ],
      "metadata": {
        "id": "yeLknja80x9L"
      }
    },
    {
      "cell_type": "code",
      "source": [
        "import requests # requests html pages\n",
        "import cloudscraper\n",
        "import re # Regex\n",
        "from bs4 import BeautifulSoup"
      ],
      "metadata": {
        "id": "9RUKi8wy0xEf"
      },
      "execution_count": null,
      "outputs": []
    },
    {
      "cell_type": "code",
      "source": [
        "import os # os.join()\n",
        "import sys"
      ],
      "metadata": {
        "id": "j_Dfm1MP1Y-T"
      },
      "execution_count": null,
      "outputs": []
    },
    {
      "cell_type": "markdown",
      "source": [
        "## 3. Data Scraping - Shop-Apotheke.de"
      ],
      "metadata": {
        "id": "TEcWzk_V0_ce"
      }
    },
    {
      "cell_type": "code",
      "source": [
        "#from abc import abstractproperty\n",
        "# get html text from the website\n",
        "def apo_HTMLText(apo): \n",
        "    try: \n",
        "        r = requests.get(apo, timeout = 10)\n",
        "        #r.raise_for_status()\n",
        "        #r.encoding = r.apparent.encoding\n",
        "        return r.text\n",
        "    except: \n",
        "        return \"Requests failure\"\n",
        "\n",
        "# get urls of all product images\n",
        "def apo_ImageURL(html): \n",
        "    try: \n",
        "        all_url = []\n",
        "        urls = re.findall(r'<li\\sdata-index=\"\\d*\"><a\\sdata-qa-id=\"form-gallery-image-\\d*\"\\shref=\"https://cdn.shop-apotheke.com/images/[A-Z]\\d*/\\d*/\\d*/[A-Z]\\d*-[a-z]\\d*.[a-z]*\"', html)\n",
        "        for i in range(len(urls)): \n",
        "            image_url = eval(urls[i].split('href=')[1])\n",
        "            all_url.append(image_url)\n",
        "        return all_url\n",
        "    except: \n",
        "        print(\"getImageURL Failure\")\n",
        "\n",
        "# Produktstatus\n",
        "def apo_produktstatus(html): \n",
        "  soup = BeautifulSoup(html, 'html.parser')\n",
        "  layout = soup.find_all(id = 'layout')\n",
        "  if 'Leider' or 'Außer Handel' or 'Derzeit nicht lieferbar' in str(layout[0]): \n",
        "    status = 'Disabled'\n",
        "  if 'Sofort lieferbar' in str(layout[0]): \n",
        "    status = 'Enabled'\n",
        "  return status\n",
        "\n",
        "# Preisinformationen\n",
        "def apo_priceinfo(html, status): \n",
        "\n",
        "  if status == 'Enabled': \n",
        "\n",
        "    soup = BeautifulSoup(html, 'html.parser')\n",
        "    # Vorzugspreis\n",
        "    if re.findall('Ihr\\sPreis</span><div\\sclass=\"a-h2\\su-no-margin\\su-no-wrap\"><span\\sclass=\"u-no-wrap\\sa-Price\">€\\s\\d*,\\d*', html) == []:       \n",
        "      vorzugspreis = ''\n",
        "    else: \n",
        "      vorzugspreis = re.findall('Ihr\\sPreis</span><div\\sclass=\"a-h2\\su-no-margin\\su-no-wrap\"><span\\sclass=\"u-no-wrap\\sa-Price\">€\\s\\d*,\\d*', html)[0]\n",
        "      vorzugspreis = re.findall('\\d*,\\d*', vorzugspreis)[0].replace(',', '.')\n",
        "      # print(vorzugspreis)\n",
        "\n",
        "    # UVP\n",
        "    if soup.find_all('span', \"a-PriceOld--price\") == []: \n",
        "      uvp = vorzugspreis\n",
        "    else: \n",
        "      uvp = str(soup.find_all('span', \"a-PriceOld--price\")[0])\n",
        "      uvp = re.findall('\\d*,\\d*', uvp)[0].replace(',', '.')\n",
        "    ''' Or it can be defined as following: \n",
        "    if re.findall('<span\\sclass=\"a-PriceOld--price\"><span\\sclass=\"u-no-wrap\\sa-Price\">[^\\<]*', html) == []: \n",
        "      uvp = vorzugspreis\n",
        "    else:\n",
        "      uvp = re.findall('<span\\sclass=\"a-PriceOld--price\"><span\\sclass=\"u-no-wrap\\sa-Price\">€\\s\\d*,\\d*', html)[0]\n",
        "      uvp = re.findall('\\d*,\\d*', uvp)[0]\n",
        "    '''\n",
        "    # print(uvp)\n",
        "\n",
        "    # Grundpreis\n",
        "    grundpreis = str(soup.find_all('div', \"a-h6 u-no-margin u-font-weight--normal u-no-wrap o-ProductVariant--base-price\")[0])\n",
        "    if grundpreis.split('>')[-2].split('<')[0] == '': \n",
        "      grundpreis = ''\n",
        "    else: \n",
        "      grundpreis = re.findall('\\d*,\\d*\\s€\\s\\/\\s\\d*\\sml', grundpreis)[0].replace('\\xa0', ' ')\n",
        "    # print(grundpreis)\n",
        "\n",
        "    # Rabatt\n",
        "    rabatt = str(soup.find_all('span', \"a-CircleBadge__inner\")[0])\n",
        "    if re.findall('\\d*%', rabatt) == []: \n",
        "      rabatt = ''\n",
        "    else: \n",
        "      rabatt = re.findall('\\d*%', rabatt)[0]\n",
        "    '''\n",
        "    rabatt = re.findall('<span\\sclass=\"a-CircleBadge__inner\">[^\\<]*', html)[0]\n",
        "    if re.findall('\\d*%', rabatt) == []: \n",
        "      rabatt = ''\n",
        "    else: \n",
        "      rabatt = re.findall('\\d*%', rabatt)[0]\n",
        "    '''\n",
        "    # print(rabatt)\n",
        "\n",
        "  if status == 'Disabled': \n",
        "    uvp = 0\n",
        "    vorzugspreis = 0\n",
        "    rabatt = 0\n",
        "    grundpreis = 0\n",
        "\n",
        "  return [uvp, vorzugspreis, grundpreis, rabatt]\n",
        "\n",
        "# Produktbeschreibung\n",
        "def apo_Produktdetails(html): \n",
        "  soup = BeautifulSoup(html, 'html.parser')\n",
        "  details = str(soup.find_all(id=\"o-ProductAdditionalInformation__teaser\")[0])\n",
        "  return details\n",
        "\n",
        "# Lieferanten-SKU\n",
        "def apo_sku(apo): \n",
        "  sku = re.findall(r'\\d{5,}', apo)[0]\n",
        "  return sku\n",
        "\n",
        "# save the images with the defined file names in the specific paths\n",
        "def saveImage(html, save_path, file_name): \n",
        "    try: \n",
        "        completeName = os.path.join(save_path, file_name) # completeName of file\n",
        "        print(completeName)\n",
        "        image_data = requests.get(html).content\n",
        "        file = open(completeName, \"wb\") # file using  which translate the byte format into needed format\n",
        "        file.write(image_data) # write content with byte format into file\n",
        "        #file.close()\n",
        "    except: \n",
        "        print(\"saveImage Failure\")\n",
        "\n",
        "# implement the above mentioned functions\n",
        "if __name__ == '__main__': \n",
        "  #  apo = 'https://www.shop-apotheke.com/arzneimittel/1173889/abtei-gelenk-aktiv-1500.htm?eventName=click%20on%20product%20list%20item&eventType=click&objectIDs=%5b01173889%5d&position=1&query=abtei%20gelenk&queryID=93f77a95f41f57c06d590e63b20078d2'\n",
        "    apo = 'https://www.shop-apotheke.com/arzneimittel/571748/grippostad-c-hartkapseln.htm'\n",
        "   # apo = 'https://www.shop-apotheke.com/beauty/9433002/dr-hauschka-reinigungsmilch.htm?query=hauschk&queryID=9eda5a881846f1bbb73012e6e6269039&objectIDs=[09433002]&position=1&eventName=click%20on%20product%20in%20suggest&eventType=click'\n",
        "    html = apo_HTMLText(apo)\n",
        "    print(apo_ImageURL(html))\n",
        "    print('The number of images: {}'.format (len(apo_ImageURL(html))))\n",
        "    productstatus = apo_produktstatus(html)\n",
        "    print(productstatus)\n",
        "    print(apo_priceinfo(html, productstatus))\n",
        "    print(apo_Produktdetails(html))\n",
        "    print(apo_sku(apo))"
      ],
      "metadata": {
        "id": "bt6g_gJX1Ofl"
      },
      "execution_count": null,
      "outputs": []
    },
    {
      "cell_type": "code",
      "source": [
        "status = re.findall('<p\\sclass=\"u-font-weight--bold\\su-no-margin\\su-color--\\w*\">[^\\<]*', html)"
      ],
      "metadata": {
        "id": "WztzbXil1OwP"
      },
      "execution_count": null,
      "outputs": []
    },
    {
      "cell_type": "code",
      "source": [
        "soup = BeautifulSoup(html, 'html.parser')\n",
        "str(soup.find_all(id=\"o-ProductAdditionalInformation__teaser\")[0])"
      ],
      "metadata": {
        "colab": {
          "base_uri": "https://localhost:8080/",
          "height": 126
        },
        "id": "7x0Wuq556Xdi",
        "outputId": "e32e3ec9-e5f2-45e9-ceb0-bb33a1d56471"
      },
      "execution_count": null,
      "outputs": [
        {
          "output_type": "execute_result",
          "data": {
            "application/vnd.google.colaboratory.intrinsic+json": {
              "type": "string"
            },
            "text/plain": [
              "'<div class=\"a-truncate-with-fade-out\" data-clientside-hook=\"scrollableTables\" data-scrollable-classname=\"o-ProductAdditionalInformation__scrollable\" id=\"o-ProductAdditionalInformation__teaser\"><div><p><strong>SCHNELLE LINDERUNG VON ERKÄLTUNGSSYMPTOMEN MIT DER NR. 1 UNTER DEN ERKÄLTUNGSMITTELN*</strong><br/>\\n  Erkältungen sind meist Virusinfektionen der Atemwege, die sich auf den ganzen Körper auswirken können. Viele Erkältete leiden bei einer Erkältung gleichzeitig an Schnupfen, Kopf- und Gliederschmerzen, Husten und Fieber. Alle diese Erkältungsbeschwerden gemeinsam können mit einem Kombi-Präparat bekämpft werden. Grippostad® C Kapseln sind Deutschlands meistverwendete Erkältungsmedizin bei Erkältungskrankheiten und grippalen Infekten. Sie enthalten eine Kombination aus Paracetamol, Chlorphenaminmaleat, Vitamin C und Coffein. Sie wirken gegen Reizhusten, Erkältungsfieber, Kopf- und Gliederschmerzen und Schnupfen in einem und lindern schnell diese gemeinsam<br/>\\n  auftretenden Erkältungssymptome.<br/>\\n<br/>\\n  Die Dosierung der Wirkstoffe ist so abgestimmt, dass mit einem Minimum an Wirkstoff ein Maximum an Wirkung erzielt wird. Die Kapseln sind auch für Patienten mit Bluthochdruck, Asthma und Diabetes* geeignet.</p>\\n<p><strong>KOMPAKT UND BEWÄHRT:<br/>\\nGRIPPOSTAD®C HARTKAPSELN</strong></p>\\n<ul>\\n<li> Bei gemeinsam auftretenden Erkältungsbeschwerden wie Reizhusten, Kopf- und Gliederschmerzen, Schnupfen, Fieber<br/>\\n</li>\\n<li> Schnell, stark und gut verträglich<br/>\\n</li>\\n<li> Gut schluckbare Hartkapseln<br/>\\n</li>\\n<li> Überzeugende Kundenzufriedenheit</li>\\n</ul>\\n<p><strong>SO WIRKT DIE 4ER WIRKSTOFFKOMBINATION:<br/>\\n</strong>Paracetamol ist eine fiebersenkende und schmerzstillende Substanz. Coffein verstärkt diesen Effekt, sodass nur 400 Milligramm Paracetamol schon effektiv Kopf- und Gliederschmerzen lindern können. Chlorphenamin hemmt die Wirkung des Gewebshormons Histamin, das an der Entwicklung von Entzündungen beteiligt ist. So kann der Wirkstoff zur Abschwellung der Nasenschleimhaut beitragen und als Reizhustenstiller wirken. Für eine allgemeine Unterstützung der körpereigenen Abwehr enthalten die Grippostad® C Kapseln Ascorbinsäure, also Vitamin C.</p>\\n<p><strong>Anwendung:<br/>\\n</strong>Kinder ab 12 Jahren und Erwachsene können dreimal täglich zwei Grippostad® C Kapseln einnehmen. Die Einnahme sollte mit etwas Flüssigkeit, beispielsweise einem Glas Wasser erfolgen.</p>\\n<p><strong>Zusammensetzung:<br/>\\n</strong>Grippostad® C Hartkapseln, Wirkstoffe: Paracetamol, Ascorbinsäure, Coffein, Chlorphenaminmaleat. Zus.: -Hartkaps.: 1 Hartkaps. enth.: 200 mg Paracetamol, 150 mg Ascorbinsäure, 25 mg Coffein, 2,5 mg Chlorphenaminmaleat. Sonst. Bestandt.: Gelatine, Glyceroltristearat, Lactose-Monohydrat, Chinolingelb (E104), Erythrosin (E127), Titandioxid (E171).</p></div></div>'"
            ]
          },
          "metadata": {},
          "execution_count": 93
        }
      ]
    },
    {
      "cell_type": "markdown",
      "source": [
        "## 4. Data Scraping - Mueller.de"
      ],
      "metadata": {
        "id": "I_oeWwgdlkuY"
      }
    },
    {
      "cell_type": "code",
      "source": [
        "def mueller_HTMLText(mueller): \n",
        "    try: \n",
        "        r = requests.get(mueller, timeout = 10)\n",
        "        #r.raise_for_status()\n",
        "        #r.encoding = r.apparent.encoding\n",
        "        return r.text\n",
        "    except: \n",
        "        return \"Requests failure\"\n",
        "\n",
        "# Alle Links der Produktbilder\n",
        "def mueller_ImageURL(html):\n",
        "    try:\n",
        "        soup = BeautifulSoup(html, 'html.parser')\n",
        "        basic = soup.find_all('img',\"mu-product-gallery__placeholder-image\") # Basic images URL\n",
        "        img_basic = str(basic[0]).split('\"')[-2] # Extract the image url\n",
        "        pdmain = re.findall(r'\\d*-\\w*-\\d*\\\\/pdmain', html) # Extract core parts of other images\n",
        "        \n",
        "        images = []\n",
        "        for ele in pdmain: \n",
        "            core = ele.replace('\\\\', '') # delete \\\\\n",
        "            image = re.sub('\\d*-\\w*-\\d*/pdmain', core, img_basic) # replace the core parts\n",
        "            images.append(image) # Get URLs of all images\n",
        "        return images\n",
        "    except: \n",
        "        return \"mueller_ImageURL failure\"\n",
        "\n",
        "# Produktstatus\n",
        "def mueller_produktstatus(html): \n",
        "  if 'Die aufgerufene Seite konnte leider nicht gefunden werden' in html: \n",
        "    status = 'Disabled'\n",
        "  else:\n",
        "    status = 'Enabled'\n",
        "  return status\n",
        "\n",
        "#Preisinformationen\n",
        "def mueller_priceinfo(html): \n",
        "\n",
        "  soup = BeautifulSoup(html, 'html.parser')\n",
        "\n",
        "  if soup.find_all('span', 'mu-product-price__price mu-product-price__price--promo') == []: \n",
        "    uvp = str(soup.find_all('span', \"mu-product-price__price \")[0]).split('>')[-2].replace(' ', '').replace('\\n', '').split('€')[0]\n",
        "    vorzugspreis = uvp\n",
        "    rabatt = ''\n",
        "  else: \n",
        "    uvp = str(soup.find_all('span', \"mu-product-price__price mu-product-price__price--original\")[0]).split('>')[-2].replace(' ', '').replace('\\n', '').split('€')[0]\n",
        "    vorzugspreis = str(soup.find_all('span', \"mu-product-price__price mu-product-price__price--promo\")[0]).split('>')[-2].replace(' ', '').replace('\\n', '').split('€')[0]\n",
        "    rabatt = str(soup.find_all('div', \"mu-product-price__percentage-saving\")[0])\n",
        "    rabatt = re.findall(r'\\d*%', rabatt)[0]\n",
        "\n",
        "  grundpreis = str(soup.find_all('div', \"mu-product-price__additional-info\")[0]).split('>')[-2]\n",
        "  if re.findall(r'\\d*,\\d*\\s€\\s\\/\\s\\d*\\s\\w*', grundpreis) == []: \n",
        "    grundpreis = ''\n",
        "  else: \n",
        "    grundpreis = re.findall(r'\\d*,\\d*\\s€\\s\\/\\s\\d*\\s\\w*', grundpreis)[0]\n",
        "\n",
        "  return [uvp, vorzugspreis, grundpreis, rabatt]\n",
        "\n",
        "# Produktbeschreibung\n",
        "def mueller_Details(html): \n",
        "\n",
        "    soup = BeautifulSoup(html, 'html.parser')\n",
        "    ### output parts of \"Artikelbeschreibung\" from html\n",
        "    detail = soup.find_all(id = \"details\")\n",
        "    table = soup.find_all(id = \"features\")\n",
        "    \n",
        "    details = str(detail[0]) + '<p></p>' + str(table[0])\n",
        "    \n",
        "    ### Convert the uppercase´substrings into lowercase\n",
        "    \n",
        "    attr = ['Inhaltsstoffe', 'Zutaten']\n",
        "    \n",
        "    for word in attr: \n",
        "        if word in details: \n",
        "            part_before = details.split(word + '</td>')[0]\n",
        "            lowerpart = str.lower(details.split(word + '</td>')[-1].split('</td>')[0])\n",
        "            part_after = details.split(word + '</td>')[-1].split('</td>')[1:]\n",
        "            \n",
        "            part_after_merge = ''\n",
        "            for i in range(len(part_after)): \n",
        "                part_after_merge = part_after_merge + part_after[i] + '</td>'\n",
        "            details = part_before + word + '</td>' + lowerpart + '</td>' + part_after_merge\n",
        "            \n",
        "    ### add parts of \"Zutaten\" if there exists\n",
        "    \n",
        "    if 'id=\"nutrition\"' in html: \n",
        "        nutrition = soup.find_all(id = 'nutrition')\n",
        "        description = details + '<p></p>' + str(nutrition[0])\n",
        "    \n",
        "    return description\n",
        "\n",
        "# Lieferanten_SKU\n",
        "def mueller_sku(html): \n",
        "\n",
        "    soup = BeautifulSoup(html, 'html.parser')\n",
        "    sku = str(soup.find_all('div', \"mu-product-details-page__article-number\")[0])\n",
        "    sku = re.findall('\\d{4,}', sku)[0]\n",
        "    return sku\n",
        "\n",
        "if __name__ == '__main__': \n",
        "    \n",
        "    url = 'https://www.mueller.de/p/home-by-berner-obstkorb-bonbons-2748089/'\n",
        "    html = mueller_HTMLText(url)\n",
        "    urls = mueller_ImageURL(html)\n",
        "    description = mueller_Details(html)\n",
        "    print(mueller_priceinfo(html))\n",
        "    print(mueller_sku(html))\n",
        "    print(len(urls))\n",
        "    print(urls)\n",
        "    print(description)"
      ],
      "metadata": {
        "id": "Ih6FfE852xtp"
      },
      "execution_count": null,
      "outputs": []
    },
    {
      "cell_type": "code",
      "source": [
        ""
      ],
      "metadata": {
        "id": "UdupGMD2YQa3"
      },
      "execution_count": null,
      "outputs": []
    },
    {
      "cell_type": "markdown",
      "source": [
        "## 5. Data Scraping - Reuter.de"
      ],
      "metadata": {
        "id": "HvWlo7fwigsw"
      }
    },
    {
      "cell_type": "markdown",
      "source": [
        "### Offene Punkte: Produktstatus"
      ],
      "metadata": {
        "id": "LbEUOFxNjfDW"
      }
    },
    {
      "cell_type": "code",
      "source": [
        "reuter = 'https://www.reuter.de/grohe-eurosmart-einhand-spueltischbatterie-energie-spar-funktion-a516584.php'"
      ],
      "metadata": {
        "id": "ejB5hY0TZVHL"
      },
      "execution_count": null,
      "outputs": []
    },
    {
      "cell_type": "code",
      "source": [
        "reuter = 'https://www.reuter.de/grohe-minta-kuechenarmatur-mit-ausziehbarer-dual-spuelbrause-chrom-a555626.php'"
      ],
      "metadata": {
        "id": "p8IWqGmHinPM"
      },
      "execution_count": null,
      "outputs": []
    },
    {
      "cell_type": "code",
      "source": [
        "def reuter_HTMLText(reuter): \n",
        "  try: \n",
        "    scraper = cloudscraper.create_scraper()\n",
        "    html = scraper.get(reuter).text\n",
        "    return html\n",
        "  except: \n",
        "    print('reuter_HTMLText failure')\n",
        "\n",
        "'''\n",
        "pip install selenium\n",
        "pip install webdriver-manager\n",
        "# selenium 3\n",
        "from selenium import webdriver\n",
        "from webdriver_manager.chrome import ChromeDriverManager\n",
        "\n",
        "driver = webdriver.Chrome(ChromeDriverManager().install())\n",
        "\n",
        "# Get source code\n",
        "driver.get(url)\n",
        "html = driver.page_source\n",
        "time.sleep(2)\n",
        "print(html)\n",
        "\n",
        "# close web browser\n",
        "browser.close()\n",
        "'''\n",
        "\n",
        "def reuter_produktstatus(html): \n",
        "  if 'leider nicht gefunden' in html: \n",
        "    status = 'Disabled'\n",
        "  else: \n",
        "    status = 'Enabled'\n",
        "  return status\n",
        "\n",
        "# Alle Links der Produktbilder\n",
        "def reuter_ImageURL(html): \n",
        "     \n",
        "    try: \n",
        "        urls = re.findall(r'https://img.reuter.de/products/fg/fg-\\w+?.+\\w', html)\n",
        "        return urls\n",
        "    except: \n",
        "        print(\"reuter_ImageURL Failure\")\n",
        "\n",
        "# Produktbeschreibung\n",
        "def reuter_description(html): \n",
        "  soup = BeautifulSoup(html, 'html.parser')\n",
        "  detail = str(soup.find_all(\"e2-details-block\")[0])\n",
        "  details = '<h1>Produktdetails</h1><p></p>' + detail.replace('<dl class=\"specification-list -light column\">','<br></br><br></br>').replace('<div class=\"_pseudo-h2\">','<p></p><h2>').replace('', '')\n",
        "  description = re.sub('\\\\n<br></br><br></br>\\\\n<dt\\sclass=\"specification-list\\s-attribute\">Artikelnummer:<\\/dt>\\\\n<dd\\sclass=\"specification-list\\s-value\">\\d*<\\/dd>\\\\n', '', details)\n",
        "  return description\n",
        "\n",
        "# Preisinformation\n",
        "def reuter_price(html): \n",
        "  price_info = re.findall('\"item\":{\"unit\":\"STÜCK\",\"quantity\":\\d*,\"price\":\\d*.\\d*,\"retail\":\\d*.\\d*,\"default\":\\d*.\\d*,\"difference\":{\"value\":\\d*.\\d*,\"percentage\":\\d*}}', html)[0]\n",
        "  uvp = re.findall('\"retail\":\\d*.\\d*', price_info)[0].split(\":\")[1]\n",
        "  vorzugspreis = re.findall('\"price\":\\d*.\\d*', price_info)[0].split(\":\")[1]\n",
        "  rabatt = re.findall('\"percentage\":\\d*', price_info)[0].split(\":\")[1]\n",
        "  return [uvp, vorzugspreis, rabatt]\n",
        "\n",
        "# Produktanzahl\n",
        "def reuter_produktanzahl(html):\n",
        "  produktanzahl = re.findall('\\d* Stück', html)[0].split(' ')[0]\n",
        "  return produktanzahl\n",
        "\n",
        "# Lieferanten-SKU\n",
        "def reuter_sku(html): \n",
        "  sku = re.findall('Artikelnummer:</dt>\\\\n<dd\\sclass=\"specification-list\\s-value\">\\d*', html)[0].split('>')[-1]\n",
        "  return sku"
      ],
      "metadata": {
        "id": "szj_wQ4mijOi"
      },
      "execution_count": null,
      "outputs": []
    },
    {
      "cell_type": "code",
      "source": [
        ""
      ],
      "metadata": {
        "id": "csBz2C0MjhQ_"
      },
      "execution_count": null,
      "outputs": []
    },
    {
      "cell_type": "markdown",
      "source": [
        "## 6. Data Scraping - Otto.de"
      ],
      "metadata": {
        "id": "6KgsjWSvi7EL"
      }
    },
    {
      "cell_type": "markdown",
      "source": [
        "### Offene Punkte: Produktstatus"
      ],
      "metadata": {
        "id": "xsxf2OjFjUqy"
      }
    },
    {
      "cell_type": "code",
      "source": [
        "def otto_HTMLText(otto): \n",
        "  r = requests.get(otto)\n",
        "  html = r.text\n",
        "  return html\n",
        "\n",
        "# Alle Links der Produktbilder\n",
        "def otto_ImageURL(html): \n",
        "  all_url = re.findall('data-image-url=\"https:\\/\\/i.otto.de\\/i\\/otto\\/[^\\\\\\/\\\"]*', html)\n",
        "  img_url = []\n",
        "  for i in all_url: \n",
        "    url = i.split('=\"')[1]\n",
        "    img_url.append(url)\n",
        "  img_url = list(set(img_url)) # aviod the duplicate urls\n",
        "  return img_url\n",
        "\n",
        "# Preisinformationen\n",
        "def otto_prices(html): \n",
        "  soup = BeautifulSoup(html, 'html.parser')\n",
        "  price_info = soup.find_all('div', \"prd_price js_prd_price\")\n",
        "  uvp = re.findall('<span\\sid=\"oldPriceAmount\">\\d*.\\d*,\\d*',str(price_info[0]))[0].split('>')[-1]\n",
        "  vorzugspreis = re.findall('id=\"reducedPriceAmount\"\\sitemprop=\"price\">\\d*.\\d*,\\d*',str(price_info[0]))[0].split('>')[-1]\n",
        "  rabatt = re.findall('\\d*%',str(price_info[0]))[0]\n",
        "  return [uvp, vorzugspreis, rabatt]\n",
        "\n",
        "# Lieferanten-SKU\n",
        "def otto_sku(html): \n",
        "  sku = re.findall('content=\"sku:\\w*', html)[0].split(':')[-1]\n",
        "  return sku\n",
        "\n",
        "# Produktbeschreibungen\n",
        "def otto_details(html):\n",
        "   soup = BeautifulSoup(html, 'html.parser')\n",
        "   part1 = str(soup.find_all('div',\"prd_module prd_module--noLine prd_sellingPoints js_prd_sellingPoints\")[0])\n",
        "   part3_before = soup.find_all('div', \"prd_moreBox__content js_prd_moreBox__content\")[0]\n",
        "   part3 = str(part3_before).replace('<table class=\"dv_characteristicsTable\"><caption>', '<p></p><b2><strong>').replace('</caption>',':</strong></b2><p></p>').replace('<td class=\"left\"><span>', '<br></br>').replace('</span></td><td>', ':  ')\n",
        "   if 'prd_moreBox__content pl_copy100 js_prd_moreBox__content' in html: \n",
        "     part2 = str(soup.find_all('div', \"prd_moreBox__content pl_copy100 js_prd_moreBox__content\")[0])\n",
        "   else: \n",
        "     teaser = soup.find_all('div', \"rc_teaser__text\")\n",
        "     part2 = ''\n",
        "     for i in teaser: \n",
        "       part2 = part2 + str(i)\n",
        "\n",
        "   description = '<h2><strong>Artikelbeschreibung</strong></h2><br></br>' + part1 + '<br></br>' + part2 + '<p></p><h2><strong>Details</strong></h2>' + part3\n",
        "   return description\n"
      ],
      "metadata": {
        "id": "aj1xN-gpi-nZ"
      },
      "execution_count": null,
      "outputs": []
    },
    {
      "cell_type": "code",
      "source": [
        "otto = 'https://www.otto.de/p/wmf-wasserkocher-bueno-1-7-l-2400-w-cromargan-C319409656/#variationId=318465537'"
      ],
      "metadata": {
        "id": "bWUa2DHdjRrD"
      },
      "execution_count": null,
      "outputs": []
    }
  ]
}